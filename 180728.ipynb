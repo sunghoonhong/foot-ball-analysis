{
 "cells": [
  {
   "cell_type": "markdown",
   "metadata": {},
   "source": [
    "## 코드 통일\n",
    "\n",
    "- 학습데이터는 [:1100]까지, 테스트데이터는 [1100:]로 하자. (추후 조정가능)\n",
    "\n",
    "- 기본적으로 데이터프레임은 csv로 부터 불러온 것 중 학습데이터인 'df_learn'을 활용한다.  \n",
    "\n",
    "- 지표이름이 'feature'라면, df의 행의 이름은 다음과 같이 한다.\n",
    ">df_learn['PH_feature'], df_learn['PD_feature'], df_learn['PA_feature']\n",
    "\n",
    "- 분석한 지표들의 지표이름은 다음과 같이한다. (분석될 때마다 추가)  \n",
    "\n",
    "    1. IW    ;    북메이커 중 성공률이 가장 높은 IW의 배당률\n",
    "    2. history    ; 팀의 전적.\n",
    "        - PH = H승률 * A패율\n",
    "        - PD = H무율 * A무율\n",
    "        - PA = H패율 * A승률\n",
    "    3. vs    ; 상대 전적\n",
    "\n",
    "- 각 지표의 수치들은 [0,1]의 범위에서 표준화시킨다."
   ]
  },
  {
   "cell_type": "code",
   "execution_count": 1,
   "metadata": {
    "collapsed": true
   },
   "outputs": [],
   "source": [
    "import numpy as np\n",
    "import pandas as pd\n",
    "import matplotlib.pyplot as plt\n",
    "import seaborn as sns\n",
    "\n",
    "df1718 = pd.read_csv(\"http://www.football-data.co.uk/mmz4281/1718/E0.csv\", sep=',', header = 0)\n",
    "df1617 = pd.read_csv(\"http://www.football-data.co.uk/mmz4281/1617/E0.csv\", sep=',', header = 0)\n",
    "df1516 = pd.read_csv(\"http://www.football-data.co.uk/mmz4281/1516/E0.csv\", sep=',', header = 0)\n",
    "df = pd.concat([df1516,df1617,df1718], ignore_index = True)\n",
    "df[\"HTW\"] = (df[\"FTHG\"] > df[\"FTAG\"]).astype(int)\n",
    "df[\"HTD\"] = (df[\"FTHG\"] == df[\"FTAG\"]).astype(int)\n",
    "df[\"HTL\"] = (df[\"FTHG\"] < df[\"FTAG\"]).astype(int)\n"
   ]
  },
  {
   "cell_type": "markdown",
   "metadata": {},
   "source": [
    "## 학습과 테스트 데이터 나누기"
   ]
  },
  {
   "cell_type": "code",
   "execution_count": 2,
   "metadata": {
    "collapsed": true
   },
   "outputs": [],
   "source": [
    "df_learn = df[:1100].copy()\n",
    "df_test = df[1100:].copy()"
   ]
  },
  {
   "cell_type": "markdown",
   "metadata": {},
   "source": [
    "## 배당률(IW)\n",
    "df_learn['PH_IW']/D/L 를 추가한다. (기타 북메이커들도 있기는 함)"
   ]
  },
  {
   "cell_type": "code",
   "execution_count": 3,
   "metadata": {
    "collapsed": true
   },
   "outputs": [],
   "source": [
    "bookmakers = ['B365', 'IW', 'LB', 'PS', 'WH', 'VC']    # BW 는 918 행에 NaN이 들어가서 뺐다.\n",
    "results = ['H', 'D', 'A']\n",
    "\n",
    "for bookmaker in bookmakers:\n",
    "    cases = [bookmaker+result for result in results]\n",
    "    probs = df_learn[cases].apply(lambda x: 1/x)\n",
    "    with_margin = probs.sum(axis=1)\n",
    "    df_learn[['P'+case[-1]+'_'+case[:-1] for case in cases]] = probs.apply(lambda x: x/with_margin)"
   ]
  },
  {
   "cell_type": "markdown",
   "metadata": {},
   "source": [
    "## 전적(history)\n",
    "df_learn['PH_history']/D/L 를 추가한다."
   ]
  },
  {
   "cell_type": "code",
   "execution_count": 32,
   "metadata": {
    "collapsed": true,
    "scrolled": true
   },
   "outputs": [],
   "source": [
    "match_data = ['HomeTeam', 'AwayTeam', 'HTW', 'HTD', 'HTL']\n",
    "ht_prob = df_learn[match_data].groupby('HomeTeam')\n",
    "ht_prob = ht_prob['HTW', 'HTD', 'HTL'].count() * ht_prob['HTW', 'HTD', 'HTL'].mean()\n",
    "ht_prob.columns = ['W', 'D', 'L']\n",
    "ht_prob.index.name = 'Team'\n",
    "at_prob = df_learn[match_data].groupby('AwayTeam')\n",
    "at_prob = at_prob['HTW', 'HTD', 'HTL'].count() * at_prob['HTW', 'HTD', 'HTL'].mean()\n",
    "at_prob.columns = ['L', 'D', 'W']\n",
    "at_prob.index.name = 'Team'\n",
    "\n",
    "history_prob = pd.DataFrame(data=(ht_prob + at_prob), columns=['W', 'D', 'L'])\n",
    "history_prob = history_prob.apply(lambda x: x/history_prob.sum(axis=1), axis=0)\n",
    "\n",
    "hp_dict_w = history_prob['W'].T.to_dict()\n",
    "hp_dict_d = history_prob['D'].T.to_dict()\n",
    "hp_dict_l = history_prob['L'].T.to_dict()\n",
    "\n",
    "# 전적 확률 식 바꾸고 싶으면 여기!!\n",
    "df_learn['PH_history'] = df_learn['HomeTeam'].map(hp_dict_w)*df_learn['AwayTeam'].map(hp_dict_l)\n",
    "df_learn['PD_history'] = df_learn['HomeTeam'].map(hp_dict_d)*df_learn['AwayTeam'].map(hp_dict_d)\n",
    "df_learn['PA_history'] = df_learn['HomeTeam'].map(hp_dict_l)*df_learn['AwayTeam'].map(hp_dict_w)\n",
    "\n",
    "df_learn.loc[:,'PH_history':'PA_history'] = df_learn.loc[:,'PH_history':'PA_history'].apply(lambda x: x/df_learn.loc[:,'PH_history':'PA_history'].sum(axis=1), axis=0)"
   ]
  },
  {
   "cell_type": "markdown",
   "metadata": {},
   "source": [
    "## 상대전적(vs)\n",
    "df_learn['PH_vs']/D/L 를 추가한다."
   ]
  },
  {
   "cell_type": "code",
   "execution_count": 33,
   "metadata": {
    "collapsed": true
   },
   "outputs": [],
   "source": [
    "vs_prob = df_learn.groupby(['HomeTeam', 'AwayTeam']).mean().loc[:,'HTW':'HTL'].reset_index()\n",
    "def vs_result(home, away, result):\n",
    "    return vs_prob[(vs_prob['HomeTeam']==home) & (vs_prob['AwayTeam']==away)]['HT'+result].values[0]\n",
    "df_learn['PH_vs']=df_learn.apply(lambda x: vs_result(x['HomeTeam'], x['AwayTeam'], 'W'), axis=1)\n",
    "df_learn['PD_vs']=df_learn.apply(lambda x: vs_result(x['HomeTeam'], x['AwayTeam'], 'D'), axis=1)\n",
    "df_learn['PA_vs']=df_learn.apply(lambda x: vs_result(x['HomeTeam'], x['AwayTeam'], 'L'), axis=1)"
   ]
  },
  {
   "cell_type": "markdown",
   "metadata": {},
   "source": [
    "## 단일지표에 의한 예측 성공률 계산"
   ]
  },
  {
   "cell_type": "code",
   "execution_count": 37,
   "metadata": {},
   "outputs": [
    {
     "name": "stdout",
     "output_type": "stream",
     "text": [
      "hit rate by IW 0.5463636363636364\n",
      "hit rate by history 0.5254545454545455\n",
      "hit rate by vs 0.7454545454545455\n"
     ]
    }
   ],
   "source": [
    "def hit_rate_by(feature):\n",
    "    '''\n",
    "    하나의 지표에 의해서만 예측 성공률을 계산한다.\n",
    "    df_learn에 feature 정보가 있어야 한다.\n",
    "    '''\n",
    "    results = ['H','D','A']\n",
    "    cases = ['P'+result+'_'+feature for result in results]\n",
    "    guess = df_learn[cases].idxmax(axis=1).map(lambda x: x[1])\n",
    "    hit_table = (df_learn['FTR'] == guess).value_counts()\n",
    "    return hit_table.loc[True] / hit_table.sum()\n",
    "\n",
    "print('hit rate by IW', hit_rate_by('IW'))\n",
    "print('hit rate by history', hit_rate_by('history'))\n",
    "print('hit rate by vs', hit_rate_by('vs'))"
   ]
  },
  {
   "cell_type": "markdown",
   "metadata": {},
   "source": [
    "## 다중지표와 가중치에 의한 예측 성공률 계산"
   ]
  },
  {
   "cell_type": "code",
   "execution_count": 40,
   "metadata": {
    "collapsed": true
   },
   "outputs": [],
   "source": [
    "def hit_rate_among(weights, features, to_print=False):\n",
    "    '''\n",
    "    가중치벡터(W)와 지표들(X)을 주면 예측성공률(z)를 계산한다.\n",
    "    weights와 features는 list type\n",
    "    features의 지표의 이름 string type의 list\n",
    "    hit_rate_by()와 마찬가지로 df_learn[feature]가 이미 존재해야한다.\n",
    "      ex) feature = 'IW' -> df_learn['PH_IW'] 준비\n",
    "    '''\n",
    "    results = ['H','D','A']\n",
    "    wx_pair = list(zip(weights, features))\n",
    "    prob_frame = pd.DataFrame(index=df_learn.index)\n",
    "    for result in results:\n",
    "        temp = pd.Series(0, index=df_learn.index)\n",
    "        for wx in wx_pair:\n",
    "            column_name = 'P'+result+'_'+wx[1]\n",
    "            temp += wx[0]*df_learn[column_name]\n",
    "        prob_frame[result] = temp\n",
    "    \n",
    "    guess = prob_frame[results].idxmax(axis=1)\n",
    "    hit_table = (df_learn['FTR']==guess).value_counts()\n",
    "    rate = hit_table.loc[True] / hit_table.sum()\n",
    "    if to_print: print(weights, features, rate)\n",
    "    return rate\n",
    "    "
   ]
  },
  {
   "cell_type": "markdown",
   "metadata": {},
   "source": [
    "## 다중지표에 의한 예측 성공률 테스트"
   ]
  },
  {
   "cell_type": "code",
   "execution_count": null,
   "metadata": {
    "collapsed": true
   },
   "outputs": [],
   "source": [
    "hit_rate_among([1],['IW'], True)\n",
    "hit_rate_among([0.5, 0.5], ['IW', 'vs'], True)\n",
    "weights = [\n",
    "    [i/2, j/2, k/2] for i in range(3) for j in range(3) for k in range(3)\n",
    "]\n",
    "features = ['IW', 'history', 'vs']\n",
    "for weight in weights:\n",
    "    hit_rate_among(weight, features, True)"
   ]
  },
  {
   "cell_type": "markdown",
   "metadata": {},
   "source": [
    "# 마지막 할일\n",
    "\n",
    "## 로지스틱 회귀분석 적용\n",
    "\n",
    "## 슛, 홈 지표 추가\n",
    "\n",
    "## 테스트데이터로 실험해본 후 고찰\n",
    "- 학습:테스트 양 조절\n",
    "- hit_rate_among() VS 로지스틱 회귀분석"
   ]
  },
  {
   "cell_type": "code",
   "execution_count": null,
   "metadata": {
    "collapsed": true
   },
   "outputs": [],
   "source": []
  }
 ],
 "metadata": {
  "kernelspec": {
   "display_name": "Python 3",
   "language": "python",
   "name": "python3"
  },
  "language_info": {
   "codemirror_mode": {
    "name": "ipython",
    "version": 3
   },
   "file_extension": ".py",
   "mimetype": "text/x-python",
   "name": "python",
   "nbconvert_exporter": "python",
   "pygments_lexer": "ipython3",
   "version": "3.6.3"
  }
 },
 "nbformat": 4,
 "nbformat_minor": 2
}
