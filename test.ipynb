{
 "cells": [
  {
   "cell_type": "markdown",
   "metadata": {},
   "source": [
    "# 내가 해본 이것저것들\n",
    "변수가 너무나 많아서 일단은 영향력이 있을법한 변수들을 통계적으로 추려보기로 했다.  \n",
    "경우는 간단하게 승/패로만 비교해보자.(무도 있지만)  \n",
    "승인 경우와 패인 경우에 따라 각각의 수치 변수들의 평균을 내보자.  \n",
    "문자열 변수는 제외해야한다 일단 제외부터 해볼까?"
   ]
  },
  {
   "cell_type": "code",
   "execution_count": 1,
   "metadata": {},
   "outputs": [],
   "source": [
    "%matplotlib inline\n",
    "import matplotlib.pyplot as plt\n",
    "import numpy as np\n",
    "import pandas as pd\n",
    "import seaborn as sns"
   ]
  },
  {
   "cell_type": "code",
   "execution_count": 2,
   "metadata": {},
   "outputs": [],
   "source": [
    "df1718 = pd.read_csv(\"http://www.football-data.co.uk/mmz4281/1718/E0.csv\", sep=',', header = 0)\n",
    "df1617 = pd.read_csv(\"http://www.football-data.co.uk/mmz4281/1617/E0.csv\", sep=',', header = 0)\n",
    "df1516 = pd.read_csv(\"http://www.football-data.co.uk/mmz4281/1516/E0.csv\", sep=',', header = 0)\n",
    "df = pd.concat([df1718,df1617,df1516], ignore_index = True)\n",
    "# df[\"HTW\"] = (df[\"FTHG\"] > df[\"FTAG\"]).astype(int)\n",
    "# df[\"HTD\"] = (df[\"FTHG\"] == df[\"FTAG\"]).astype(int)\n",
    "# df[\"HTL\"] = (df[\"FTHG\"] < df[\"FTAG\"]).astype(int)"
   ]
  },
  {
   "cell_type": "markdown",
   "metadata": {},
   "source": [
    "Dataframe에 describe()를 쓰면 numeric data만 보여주니까 그걸 써서 추출하자."
   ]
  },
  {
   "cell_type": "code",
   "execution_count": 3,
   "metadata": {},
   "outputs": [
    {
     "data": {
      "text/plain": [
       "['FTHG',\n",
       " 'FTAG',\n",
       " 'HTHG',\n",
       " 'HTAG',\n",
       " 'HS',\n",
       " 'AS',\n",
       " 'HST',\n",
       " 'AST',\n",
       " 'HF',\n",
       " 'AF',\n",
       " 'HC',\n",
       " 'AC',\n",
       " 'HY',\n",
       " 'AY',\n",
       " 'HR',\n",
       " 'AR',\n",
       " 'B365H',\n",
       " 'B365D',\n",
       " 'B365A',\n",
       " 'BWH',\n",
       " 'BWD',\n",
       " 'BWA',\n",
       " 'IWH',\n",
       " 'IWD',\n",
       " 'IWA',\n",
       " 'LBH',\n",
       " 'LBD',\n",
       " 'LBA',\n",
       " 'PSH',\n",
       " 'PSD',\n",
       " 'PSA',\n",
       " 'WHH',\n",
       " 'WHD',\n",
       " 'WHA',\n",
       " 'VCH',\n",
       " 'VCD',\n",
       " 'VCA',\n",
       " 'Bb1X2',\n",
       " 'BbMxH',\n",
       " 'BbAvH',\n",
       " 'BbMxD',\n",
       " 'BbAvD',\n",
       " 'BbMxA',\n",
       " 'BbAvA',\n",
       " 'BbOU',\n",
       " 'BbMx>2.5',\n",
       " 'BbAv>2.5',\n",
       " 'BbMx<2.5',\n",
       " 'BbAv<2.5',\n",
       " 'BbAH',\n",
       " 'BbAHh',\n",
       " 'BbMxAHH',\n",
       " 'BbAvAHH',\n",
       " 'BbMxAHA',\n",
       " 'BbAvAHA',\n",
       " 'PSCH',\n",
       " 'PSCD',\n",
       " 'PSCA']"
      ]
     },
     "execution_count": 3,
     "metadata": {},
     "output_type": "execute_result"
    }
   ],
   "source": [
    "list(df.describe().loc['mean'].index)"
   ]
  },
  {
   "cell_type": "code",
   "execution_count": 4,
   "metadata": {},
   "outputs": [
    {
     "data": {
      "text/plain": [
       "Div               E0\n",
       "Date        12/08/17\n",
       "HomeTeam    Brighton\n",
       "AwayTeam    Man City\n",
       "FTHG               0\n",
       "FTAG               2\n",
       "FTR                A\n",
       "HTHG               0\n",
       "HTAG               0\n",
       "HTR                D\n",
       "Referee     M Oliver\n",
       "HS                 6\n",
       "AS                14\n",
       "HST                2\n",
       "AST                4\n",
       "HF                 6\n",
       "AF                 9\n",
       "HC                 3\n",
       "AC                10\n",
       "HY                 0\n",
       "AY                 2\n",
       "HR                 0\n",
       "AR                 0\n",
       "B365H             11\n",
       "B365D            5.5\n",
       "B365A           1.33\n",
       "BWH               11\n",
       "BWD             5.25\n",
       "BWA              1.3\n",
       "IWH                8\n",
       "              ...   \n",
       "PSH            10.95\n",
       "PSD             5.55\n",
       "PSA             1.34\n",
       "WHH               10\n",
       "WHD              4.8\n",
       "WHA             1.33\n",
       "VCH               10\n",
       "VCD              5.5\n",
       "VCA             1.33\n",
       "Bb1X2             40\n",
       "BbMxH           11.5\n",
       "BbAvH           10.1\n",
       "BbMxD            5.6\n",
       "BbAvD           5.25\n",
       "BbMxA           1.36\n",
       "BbAvA           1.32\n",
       "BbOU              35\n",
       "BbMx>2.5         1.7\n",
       "BbAv>2.5        1.63\n",
       "BbMx<2.5         2.4\n",
       "BbAv<2.5        2.27\n",
       "BbAH              20\n",
       "BbAHh            1.5\n",
       "BbMxAHH         1.95\n",
       "BbAvAHH         1.91\n",
       "BbMxAHA         2.01\n",
       "BbAvAHA         1.96\n",
       "PSCH           11.75\n",
       "PSCD            6.15\n",
       "PSCA            1.29\n",
       "Name: 1, Length: 65, dtype: object"
      ]
     },
     "execution_count": 4,
     "metadata": {},
     "output_type": "execute_result"
    }
   ],
   "source": [
    "df.loc[1]"
   ]
  },
  {
   "cell_type": "markdown",
   "metadata": {},
   "source": [
    "수치화할수 있는 변수들을 FTR(Full Time Result)을 기준으로 통계를 내보도록하자.\n"
   ]
  },
  {
   "cell_type": "code",
   "execution_count": 5,
   "metadata": {},
   "outputs": [],
   "source": [
    "grouped = df.groupby('FTR')"
   ]
  },
  {
   "cell_type": "markdown",
   "metadata": {},
   "source": [
    "홈과 어웨이라는 요소도 비교해봐야겠다.  \n",
    "단순히 전체데이터 중에서 H(Home win)과 A(Away win)의 갯수를 비교해보면\n",
    "> H (517) : A (333)\n",
    "    \n",
    "홈일때 이길 확률이 517/(517+333) = 517/850 = 0.608xx ~= 61% 정도로 볼수있다."
   ]
  },
  {
   "cell_type": "code",
   "execution_count": 6,
   "metadata": {},
   "outputs": [
    {
     "data": {
      "text/html": [
       "<div>\n",
       "<style scoped>\n",
       "    .dataframe tbody tr th:only-of-type {\n",
       "        vertical-align: middle;\n",
       "    }\n",
       "\n",
       "    .dataframe tbody tr th {\n",
       "        vertical-align: top;\n",
       "    }\n",
       "\n",
       "    .dataframe thead tr th {\n",
       "        text-align: left;\n",
       "    }\n",
       "\n",
       "    .dataframe thead tr:last-of-type th {\n",
       "        text-align: right;\n",
       "    }\n",
       "</style>\n",
       "<table border=\"1\" class=\"dataframe\">\n",
       "  <thead>\n",
       "    <tr>\n",
       "      <th></th>\n",
       "      <th colspan=\"8\" halign=\"left\">AC</th>\n",
       "      <th colspan=\"2\" halign=\"left\">AF</th>\n",
       "      <th>...</th>\n",
       "      <th colspan=\"2\" halign=\"left\">WHD</th>\n",
       "      <th colspan=\"8\" halign=\"left\">WHH</th>\n",
       "    </tr>\n",
       "    <tr>\n",
       "      <th></th>\n",
       "      <th>count</th>\n",
       "      <th>mean</th>\n",
       "      <th>std</th>\n",
       "      <th>min</th>\n",
       "      <th>25%</th>\n",
       "      <th>50%</th>\n",
       "      <th>75%</th>\n",
       "      <th>max</th>\n",
       "      <th>count</th>\n",
       "      <th>mean</th>\n",
       "      <th>...</th>\n",
       "      <th>75%</th>\n",
       "      <th>max</th>\n",
       "      <th>count</th>\n",
       "      <th>mean</th>\n",
       "      <th>std</th>\n",
       "      <th>min</th>\n",
       "      <th>25%</th>\n",
       "      <th>50%</th>\n",
       "      <th>75%</th>\n",
       "      <th>max</th>\n",
       "    </tr>\n",
       "    <tr>\n",
       "      <th>FTR</th>\n",
       "      <th></th>\n",
       "      <th></th>\n",
       "      <th></th>\n",
       "      <th></th>\n",
       "      <th></th>\n",
       "      <th></th>\n",
       "      <th></th>\n",
       "      <th></th>\n",
       "      <th></th>\n",
       "      <th></th>\n",
       "      <th></th>\n",
       "      <th></th>\n",
       "      <th></th>\n",
       "      <th></th>\n",
       "      <th></th>\n",
       "      <th></th>\n",
       "      <th></th>\n",
       "      <th></th>\n",
       "      <th></th>\n",
       "      <th></th>\n",
       "      <th></th>\n",
       "    </tr>\n",
       "  </thead>\n",
       "  <tbody>\n",
       "    <tr>\n",
       "      <th>A</th>\n",
       "      <td>333.0</td>\n",
       "      <td>4.972973</td>\n",
       "      <td>2.499853</td>\n",
       "      <td>0.0</td>\n",
       "      <td>3.0</td>\n",
       "      <td>5.0</td>\n",
       "      <td>7.0</td>\n",
       "      <td>13.0</td>\n",
       "      <td>333.0</td>\n",
       "      <td>11.075075</td>\n",
       "      <td>...</td>\n",
       "      <td>3.80</td>\n",
       "      <td>7.5</td>\n",
       "      <td>333.0</td>\n",
       "      <td>4.026997</td>\n",
       "      <td>2.543054</td>\n",
       "      <td>1.17</td>\n",
       "      <td>2.20</td>\n",
       "      <td>3.00</td>\n",
       "      <td>5.50</td>\n",
       "      <td>17.0</td>\n",
       "    </tr>\n",
       "    <tr>\n",
       "      <th>D</th>\n",
       "      <td>290.0</td>\n",
       "      <td>4.644828</td>\n",
       "      <td>2.604506</td>\n",
       "      <td>0.0</td>\n",
       "      <td>3.0</td>\n",
       "      <td>4.0</td>\n",
       "      <td>6.0</td>\n",
       "      <td>13.0</td>\n",
       "      <td>290.0</td>\n",
       "      <td>11.282759</td>\n",
       "      <td>...</td>\n",
       "      <td>3.75</td>\n",
       "      <td>9.0</td>\n",
       "      <td>290.0</td>\n",
       "      <td>2.727448</td>\n",
       "      <td>1.590567</td>\n",
       "      <td>1.11</td>\n",
       "      <td>1.85</td>\n",
       "      <td>2.38</td>\n",
       "      <td>2.86</td>\n",
       "      <td>12.0</td>\n",
       "    </tr>\n",
       "    <tr>\n",
       "      <th>H</th>\n",
       "      <td>517.0</td>\n",
       "      <td>4.603482</td>\n",
       "      <td>2.796632</td>\n",
       "      <td>0.0</td>\n",
       "      <td>2.0</td>\n",
       "      <td>4.0</td>\n",
       "      <td>6.0</td>\n",
       "      <td>15.0</td>\n",
       "      <td>517.0</td>\n",
       "      <td>11.234043</td>\n",
       "      <td>...</td>\n",
       "      <td>4.80</td>\n",
       "      <td>11.0</td>\n",
       "      <td>517.0</td>\n",
       "      <td>2.203346</td>\n",
       "      <td>1.277901</td>\n",
       "      <td>1.10</td>\n",
       "      <td>1.40</td>\n",
       "      <td>1.91</td>\n",
       "      <td>2.40</td>\n",
       "      <td>11.0</td>\n",
       "    </tr>\n",
       "  </tbody>\n",
       "</table>\n",
       "<p>3 rows × 464 columns</p>\n",
       "</div>"
      ],
      "text/plain": [
       "        AC                                                   AF             \\\n",
       "     count      mean       std  min  25%  50%  75%   max  count       mean   \n",
       "FTR                                                                          \n",
       "A    333.0  4.972973  2.499853  0.0  3.0  5.0  7.0  13.0  333.0  11.075075   \n",
       "D    290.0  4.644828  2.604506  0.0  3.0  4.0  6.0  13.0  290.0  11.282759   \n",
       "H    517.0  4.603482  2.796632  0.0  2.0  4.0  6.0  15.0  517.0  11.234043   \n",
       "\n",
       "     ...    WHD          WHH                                                    \n",
       "     ...    75%   max  count      mean       std   min   25%   50%   75%   max  \n",
       "FTR  ...                                                                        \n",
       "A    ...   3.80   7.5  333.0  4.026997  2.543054  1.17  2.20  3.00  5.50  17.0  \n",
       "D    ...   3.75   9.0  290.0  2.727448  1.590567  1.11  1.85  2.38  2.86  12.0  \n",
       "H    ...   4.80  11.0  517.0  2.203346  1.277901  1.10  1.40  1.91  2.40  11.0  \n",
       "\n",
       "[3 rows x 464 columns]"
      ]
     },
     "execution_count": 6,
     "metadata": {},
     "output_type": "execute_result"
    }
   ],
   "source": [
    "grouped.describe()"
   ]
  },
  {
   "cell_type": "markdown",
   "metadata": {},
   "source": [
    "FTR을 기준으로 각 변수들의 평균값을 보자"
   ]
  },
  {
   "cell_type": "code",
   "execution_count": 7,
   "metadata": {
    "scrolled": true
   },
   "outputs": [
    {
     "data": {
      "text/html": [
       "<div>\n",
       "<style scoped>\n",
       "    .dataframe tbody tr th:only-of-type {\n",
       "        vertical-align: middle;\n",
       "    }\n",
       "\n",
       "    .dataframe tbody tr th {\n",
       "        vertical-align: top;\n",
       "    }\n",
       "\n",
       "    .dataframe thead th {\n",
       "        text-align: right;\n",
       "    }\n",
       "</style>\n",
       "<table border=\"1\" class=\"dataframe\">\n",
       "  <thead>\n",
       "    <tr style=\"text-align: right;\">\n",
       "      <th></th>\n",
       "      <th>FTHG</th>\n",
       "      <th>FTAG</th>\n",
       "      <th>HTHG</th>\n",
       "      <th>HTAG</th>\n",
       "      <th>HS</th>\n",
       "      <th>AS</th>\n",
       "      <th>HST</th>\n",
       "      <th>AST</th>\n",
       "      <th>HF</th>\n",
       "      <th>AF</th>\n",
       "      <th>...</th>\n",
       "      <th>BbAv&lt;2.5</th>\n",
       "      <th>BbAH</th>\n",
       "      <th>BbAHh</th>\n",
       "      <th>BbMxAHH</th>\n",
       "      <th>BbAvAHH</th>\n",
       "      <th>BbMxAHA</th>\n",
       "      <th>BbAvAHA</th>\n",
       "      <th>PSCH</th>\n",
       "      <th>PSCD</th>\n",
       "      <th>PSCA</th>\n",
       "    </tr>\n",
       "    <tr>\n",
       "      <th>FTR</th>\n",
       "      <th></th>\n",
       "      <th></th>\n",
       "      <th></th>\n",
       "      <th></th>\n",
       "      <th></th>\n",
       "      <th></th>\n",
       "      <th></th>\n",
       "      <th></th>\n",
       "      <th></th>\n",
       "      <th></th>\n",
       "      <th></th>\n",
       "      <th></th>\n",
       "      <th></th>\n",
       "      <th></th>\n",
       "      <th></th>\n",
       "      <th></th>\n",
       "      <th></th>\n",
       "      <th></th>\n",
       "      <th></th>\n",
       "      <th></th>\n",
       "      <th></th>\n",
       "    </tr>\n",
       "  </thead>\n",
       "  <tbody>\n",
       "    <tr>\n",
       "      <th>A</th>\n",
       "      <td>0.594595</td>\n",
       "      <td>2.396396</td>\n",
       "      <td>0.261261</td>\n",
       "      <td>1.054054</td>\n",
       "      <td>11.726727</td>\n",
       "      <td>13.300300</td>\n",
       "      <td>3.195195</td>\n",
       "      <td>5.309309</td>\n",
       "      <td>10.477477</td>\n",
       "      <td>11.075075</td>\n",
       "      <td>...</td>\n",
       "      <td>1.933784</td>\n",
       "      <td>24.540541</td>\n",
       "      <td>0.201201</td>\n",
       "      <td>1.998589</td>\n",
       "      <td>1.941411</td>\n",
       "      <td>1.995255</td>\n",
       "      <td>1.934865</td>\n",
       "      <td>4.226667</td>\n",
       "      <td>4.028559</td>\n",
       "      <td>3.131832</td>\n",
       "    </tr>\n",
       "    <tr>\n",
       "      <th>D</th>\n",
       "      <td>0.979310</td>\n",
       "      <td>0.979310</td>\n",
       "      <td>0.410345</td>\n",
       "      <td>0.444828</td>\n",
       "      <td>14.113793</td>\n",
       "      <td>11.182759</td>\n",
       "      <td>4.241379</td>\n",
       "      <td>3.593103</td>\n",
       "      <td>10.889655</td>\n",
       "      <td>11.282759</td>\n",
       "      <td>...</td>\n",
       "      <td>1.909241</td>\n",
       "      <td>24.579310</td>\n",
       "      <td>-0.285345</td>\n",
       "      <td>2.008310</td>\n",
       "      <td>1.950966</td>\n",
       "      <td>1.979448</td>\n",
       "      <td>1.923724</td>\n",
       "      <td>2.806759</td>\n",
       "      <td>3.962345</td>\n",
       "      <td>4.505517</td>\n",
       "    </tr>\n",
       "    <tr>\n",
       "      <th>H</th>\n",
       "      <td>2.464217</td>\n",
       "      <td>0.522244</td>\n",
       "      <td>1.061896</td>\n",
       "      <td>0.214700</td>\n",
       "      <td>15.334623</td>\n",
       "      <td>9.936170</td>\n",
       "      <td>5.903288</td>\n",
       "      <td>3.017408</td>\n",
       "      <td>10.177950</td>\n",
       "      <td>11.234043</td>\n",
       "      <td>...</td>\n",
       "      <td>2.052631</td>\n",
       "      <td>24.518375</td>\n",
       "      <td>-0.692940</td>\n",
       "      <td>2.005261</td>\n",
       "      <td>1.945222</td>\n",
       "      <td>1.989923</td>\n",
       "      <td>1.933133</td>\n",
       "      <td>2.224720</td>\n",
       "      <td>4.587311</td>\n",
       "      <td>6.685861</td>\n",
       "    </tr>\n",
       "  </tbody>\n",
       "</table>\n",
       "<p>3 rows × 58 columns</p>\n",
       "</div>"
      ],
      "text/plain": [
       "         FTHG      FTAG      HTHG      HTAG         HS         AS       HST  \\\n",
       "FTR                                                                           \n",
       "A    0.594595  2.396396  0.261261  1.054054  11.726727  13.300300  3.195195   \n",
       "D    0.979310  0.979310  0.410345  0.444828  14.113793  11.182759  4.241379   \n",
       "H    2.464217  0.522244  1.061896  0.214700  15.334623   9.936170  5.903288   \n",
       "\n",
       "          AST         HF         AF    ...     BbAv<2.5       BbAH     BbAHh  \\\n",
       "FTR                                    ...                                     \n",
       "A    5.309309  10.477477  11.075075    ...     1.933784  24.540541  0.201201   \n",
       "D    3.593103  10.889655  11.282759    ...     1.909241  24.579310 -0.285345   \n",
       "H    3.017408  10.177950  11.234043    ...     2.052631  24.518375 -0.692940   \n",
       "\n",
       "      BbMxAHH   BbAvAHH   BbMxAHA   BbAvAHA      PSCH      PSCD      PSCA  \n",
       "FTR                                                                        \n",
       "A    1.998589  1.941411  1.995255  1.934865  4.226667  4.028559  3.131832  \n",
       "D    2.008310  1.950966  1.979448  1.923724  2.806759  3.962345  4.505517  \n",
       "H    2.005261  1.945222  1.989923  1.933133  2.224720  4.587311  6.685861  \n",
       "\n",
       "[3 rows x 58 columns]"
      ]
     },
     "execution_count": 7,
     "metadata": {},
     "output_type": "execute_result"
    }
   ],
   "source": [
    "means_ftr = grouped.agg(np.mean)\n",
    "grouped.agg(np.mean)"
   ]
  },
  {
   "cell_type": "code",
   "execution_count": 8,
   "metadata": {},
   "outputs": [],
   "source": [
    "ftr = list(means_ftr.index)\n",
    "values = {}\n",
    "for index, result in enumerate(ftr):\n",
    "    values[result] = means_ftr.values[index]\n",
    "variables = list(means_ftr.columns)"
   ]
  },
  {
   "cell_type": "code",
   "execution_count": 9,
   "metadata": {
    "scrolled": false,
    "slideshow": {
     "slide_type": "-"
    }
   },
   "outputs": [
    {
     "data": {
      "image/png": "[encoded data removed]",
      "text/plain": [
       "<Figure size 1440x720 with 1 Axes>"
      ]
     },
     "metadata": {},
     "output_type": "display_data"
    }
   ],
   "source": [
    "\n",
    "plt.figure(figsize=(20,10))\n",
    "X=np.arange(58)\n",
    "colors = ['b','g','r']\n",
    "for index, result in enumerate(ftr):\n",
    "    plt.bar(X+0.25*index, values[result], color=colors[index], width=0.25)\n",
    "plt.xticks(X+0.25, variables)\n",
    "# plt.savefig('ftr_figure.png')\n",
    "\n",
    "plt.show()"
   ]
  },
  {
   "cell_type": "markdown",
   "metadata": {},
   "source": [
    "변수가 너무 많아서 그래프를 구별하기가 힘들다.  \n",
    "변수를 카테고리별로 나눠서 다시 해보자.  "
   ]
  },
  {
   "cell_type": "code",
   "execution_count": 25,
   "metadata": {},
   "outputs": [],
   "source": [
    "result_data = ['FTHG', 'FTAG', 'HTHG', 'HTAG']\n",
    "index_r_d = len(result_data)\n",
    "match_stats = ['HS', 'AS', 'HST', 'AST', 'HF', 'AF', 'HC', 'AC', 'HY', 'AY', 'HR', 'AR']\n",
    "index_m_s = index_r_d + len(match_stats)\n",
    "betting_odds = ['B365H', 'B365D', 'B365A', 'BWH', 'BWD', 'BWA', 'IWH', 'IWD', 'IWA', 'LBH', 'LBD', 'LBA', 'PSH', 'PSD', 'PSA', 'WHH', 'WHD', 'WHA', 'VCH', 'VCD', 'VCA', 'Bb1X2', 'BbMxH', 'BbAvH', 'BbMxD', 'BbAvD', 'BbMxA', 'BbAvA']\n",
    "index_b_o_3 = index_m_s + 9    # 너무 많으니 앞의 3개 업체만 보자\n",
    "index_b_o = index_m_s + len(betting_odds)\n",
    "total_goals_odds= ['BbOU', 'BbMx>2.5', 'BbAv>2.5', 'BbMx<2.5', 'BbAv<2.5']\n",
    "index_t_g_o = index_b_o + len(total_goals_odds)\n",
    "asian_handicap_odds = ['BbAH', 'BbAHh', 'BbMxAHH', 'BbAvAHH', 'BbMxAHA', 'BbAvAHA']\n",
    "index_a_h_o = index_t_g_o + len(asian_handicap_odds)\n",
    "closing_odds = ['PSCH', 'PSCD', 'PSCA']\n",
    "index_c_o = index_a_h_o + len(closing_odds)"
   ]
  },
  {
   "cell_type": "code",
   "execution_count": 27,
   "metadata": {},
   "outputs": [
    {
     "data": {
      "image/png": "[encoded data removed]",
      "text/plain": [
       "<Figure size 1440x720 with 1 Axes>"
      ]
     },
     "metadata": {},
     "output_type": "display_data"
    }
   ],
   "source": [
    "# A = 파랑, D = 초록, H = 파랑\n",
    "\n",
    "# result_data 부터 보자\n",
    "plt.figure(figsize=(20,10))\n",
    "X=np.arange(len(result_data))\n",
    "colors = ['b','g','r']\n",
    "for index, result in enumerate(ftr):\n",
    "    plt.bar(X+0.25*index, values[result][:index_r_d], color=colors[index], width=0.25)\n",
    "plt.xticks(X+0.25, result_data)\n",
    "# plt.savefig('ftr_figure.png')\n",
    "\n",
    "plt.show()"
   ]
  },
  {
   "cell_type": "markdown",
   "metadata": {},
   "source": [
    "경기 결과 데이터를 시각화 해봤다.\n",
    "홈 기준으로 봤을 때,\n",
    "- 이길 경우 평균 2.5 골을 넣고\n",
    "- 비길 경우 평균 1 골을 넣고\n",
    "- 질 경우 평균 0.6 골 정도를 넣는다\n",
    "하프타임을 비교해봐도 그냥 풀타임에서 딱 절반한 정도라 큰 의미는 없는듯하다.  \n",
    "다음으로 넘어가보자."
   ]
  },
  {
   "cell_type": "code",
   "execution_count": 28,
   "metadata": {
    "scrolled": true
   },
   "outputs": [
    {
     "data": {
      "image/png": "[encoded data removed]",
      "text/plain": [
       "<Figure size 1440x720 with 1 Axes>"
      ]
     },
     "metadata": {},
     "output_type": "display_data"
    }
   ],
   "source": [
    "# match_stats\n",
    "plt.figure(figsize=(20,10))\n",
    "X=np.arange(len(match_stats))\n",
    "colors = ['b','g','r']\n",
    "for index, result in enumerate(ftr):\n",
    "    plt.bar(X+0.25*index, values[result][index_r_d:index_m_s], color=colors[index], width=0.25)\n",
    "plt.xticks(X+0.25, match_stats)\n",
    "# plt.savefig('ftr_figure.png')\n",
    "\n",
    "plt.show()"
   ]
  },
  {
   "cell_type": "markdown",
   "metadata": {},
   "source": [
    "경기 데이터를 시각화 해봤다.\n",
    "일단 홈 기준으로 보자. (홈과 어웨이는 수치상에 약간 차이는 있지만 대체로 대칭적 경향을 보인다)\n",
    "\n",
    "HS(Home Shot\n",
    "\n",
    "\n",
    "다음으로 넘어가보자."
   ]
  },
  {
   "cell_type": "code",
   "execution_count": 30,
   "metadata": {},
   "outputs": [
    {
     "data": {
      "image/png": "[encoded data removed]",
      "text/plain": [
       "<Figure size 1440x720 with 1 Axes>"
      ]
     },
     "metadata": {},
     "output_type": "display_data"
    }
   ],
   "source": [
    "# betting odds_3\n",
    "plt.figure(figsize=(20,10))\n",
    "X=np.arange(9)\n",
    "colors = ['b','g','r']\n",
    "for index, result in enumerate(ftr):\n",
    "    plt.bar(X+0.25*index, values[result][index_m_s:index_m_s+9], color=colors[index], width=0.25)\n",
    "plt.xticks(X+0.25, betting_odds[:9])\n",
    "# plt.savefig('ftr_figure.png')\n",
    "\n",
    "plt.show()"
   ]
  },
  {
   "cell_type": "markdown",
   "metadata": {},
   "source": [
    "배팅업체 중 앞의 3개만 시각해봤다.\n",
    "\n",
    "\n",
    "\n",
    "다음으로 넘어가보자."
   ]
  },
  {
   "cell_type": "code",
   "execution_count": 32,
   "metadata": {},
   "outputs": [
    {
     "data": {
      "image/png": "[encoded data removed]",
      "text/plain": [
       "<Figure size 1440x720 with 1 Axes>"
      ]
     },
     "metadata": {},
     "output_type": "display_data"
    }
   ],
   "source": [
    "# total goals odds\n",
    "plt.figure(figsize=(20,10))\n",
    "X=np.arange(len(total_goals_odds))\n",
    "colors = ['b','g','r']\n",
    "for index, result in enumerate(ftr):\n",
    "    plt.bar(X+0.25*index, values[result][index_b_o:index_t_g_o], color=colors[index], width=0.25)\n",
    "plt.xticks(X+0.25, total_goals_odds)\n",
    "# plt.savefig('ftr_figure.png')\n",
    "\n",
    "plt.show()"
   ]
  },
  {
   "cell_type": "markdown",
   "metadata": {},
   "source": [
    "골 수 배팅을 시각화 해봤다.\n",
    "\n",
    "\n",
    "\n",
    "다음으로 넘어가보자."
   ]
  },
  {
   "cell_type": "code",
   "execution_count": 34,
   "metadata": {},
   "outputs": [
    {
     "data": {
      "image/png": "[encoded data removed]",
      "text/plain": [
       "<Figure size 1440x720 with 1 Axes>"
      ]
     },
     "metadata": {},
     "output_type": "display_data"
    }
   ],
   "source": [
    "# asian handicap odds\n",
    "plt.figure(figsize=(20,10))\n",
    "X=np.arange(len(asian_handicap_odds))\n",
    "colors = ['b','g','r']\n",
    "for index, result in enumerate(ftr):\n",
    "    plt.bar(X+0.25*index, values[result][index_t_g_o:index_a_h_o], color=colors[index], width=0.25)\n",
    "plt.xticks(X+0.25, asian_handicap_odds)\n",
    "# plt.savefig('ftr_figure.png')\n",
    "\n",
    "plt.show()"
   ]
  },
  {
   "cell_type": "markdown",
   "metadata": {},
   "source": [
    "아시안 핸디캡 베팅을 보자. ( 아시안 핸디캡 베팅이 뭔진 모른다. )\n",
    "\n",
    "\n",
    "\n",
    "다음으로 넘어가보자."
   ]
  },
  {
   "cell_type": "code",
   "execution_count": 35,
   "metadata": {},
   "outputs": [
    {
     "data": {
      "image/png": "[encoded data removed]",
      "text/plain": [
       "<Figure size 1440x720 with 1 Axes>"
      ]
     },
     "metadata": {},
     "output_type": "display_data"
    }
   ],
   "source": [
    "# closing odds\n",
    "plt.figure(figsize=(20,10))\n",
    "X=np.arange(len(closing_odds))\n",
    "colors = ['b','g','r']\n",
    "for index, result in enumerate(ftr):\n",
    "    plt.bar(X+0.25*index, values[result][index_a_h_o:index_c_o], color=colors[index], width=0.25)\n",
    "plt.xticks(X+0.25, closing_odds)\n",
    "# plt.savefig('ftr_figure.png')\n",
    "\n",
    "plt.show()"
   ]
  },
  {
   "cell_type": "markdown",
   "metadata": {},
   "source": [
    "마감 베팅?을 시각화 해봤다.\n",
    "일단 홈 기준으로 보자.\n",
    "\n",
    "\n",
    "\n"
   ]
  },
  {
   "cell_type": "code",
   "execution_count": null,
   "metadata": {},
   "outputs": [],
   "source": []
  }
 ],
 "metadata": {
  "kernelspec": {
   "display_name": "Python 3",
   "language": "python",
   "name": "python3"
  },
  "language_info": {
   "codemirror_mode": {
    "name": "ipython",
    "version": 3
   },
   "file_extension": ".py",
   "mimetype": "text/x-python",
   "name": "python",
   "nbconvert_exporter": "python",
   "pygments_lexer": "ipython3",
   "version": "3.6.5"
  }
 },
 "nbformat": 4,
 "nbformat_minor": 1
}
