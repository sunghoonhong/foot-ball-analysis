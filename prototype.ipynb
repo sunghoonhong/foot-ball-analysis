{
 "cells": [
  {
   "cell_type": "markdown",
   "metadata": {},
   "source": [
    "# 개요\n",
    "\n",
    "## 서론\n",
    "재원이는 축구를 좋아한다. 평소에도 FIFA 게임을 즐기고 있으며, 최근 개최된 2018 러시아 월드컵에도 큰 관심을 가지고 관람했다.  \n",
    "뿐만 아니라 해외축구까지도 섭렵하며 유러피안 리그도 그의 큰 관심사 중 하나이다.  \n",
    "평소 축구는 좋아하지만 베팅에는 큰 관심이 없던 재원이도 이번 월드컵에서 배당률이 5000 이상 뛰는 걸 보고 호기심이 생겼다.  \n",
    "베팅 사이트를 들어가보니 각 경기마다 배당률이 매겨지는데, 많은 축구 팬들이 베팅을 했기 때문인지 배당률만 봐도 어느정도 판세가 보임을 알 수 있었다.  \n",
    "그래서 굳이 베팅을 하지는 않더라도, 미리 경기의 결과를 예측함에 있어서 의미있는 요인이라는 생각이 들었다.\n",
    "하지만 단순히 배당률만 보고 그대로 따라간다면 예측의 의미가 있을까?  \n",
    "그래서 문득 데이터 분석을 배운 김에 승부 예측을 향상시킬 방법을 찾아보기로 결심했다!  \n",
    "\n",
    "## 분석 대상\n",
    "1. 업체신뢰도: 베팅업체 배당률과 실제 예측성공률을 비교\n",
    "2. 배당률 패턴(승:무:패 / 비슷함, 승쏠림, 패쏠림, 무쏠림)에 따라서 실제 결과가 어떻게 나오는지 분석해보기\n",
    "3. 팀별 상성\n",
    "4. 매치데이터를 통한 팀 성향 분류 및 상성 분석\n",
    "\n",
    "## 결론\n",
    "기본적으로 베팅업체의 배당률만 봐도 대략적으로 경기 결과(승/무/패)를 예측할 수 있다.\n",
    "따라서 (홈팀을 기준으로) 승(W), 무(D), 패(L)의 확률을 계산해볼 수 있다.\n",
    "\n",
    ">P(W) = a\n",
    "P(D) = b\n",
    "P(L) = c\n",
    "; a+b+c = 1\n",
    "\n",
    "다만 배당률만 보고 가기엔 너무나 도박적이기 때문에 *배당률 패턴, 팀별 상성, 팀 성향 상성* 등의 요인을 추가하여 확률을 보정하고싶다.\n",
    "식을 보정하는 방법은 나중에 생각해보자."
   ]
  },
  {
   "cell_type": "markdown",
   "metadata": {},
   "source": [
    "# 업체신뢰도\n",
    "일단 1x2 betting odds를 기준으로 분석을 해보자.  \n",
    "그리고 업체 신뢰도를 판단하기에 앞서 업체의 수가 너무 많은 관계로 필터링을 거쳐보자.\n"
   ]
  },
  {
   "cell_type": "code",
   "execution_count": 1,
   "metadata": {},
   "outputs": [],
   "source": [
    "import numpy as np\n",
    "import pandas as pd\n",
    "import matplotlib.pyplot as plt\n",
    "import seaborn as sns\n",
    "\n",
    "df1718 = pd.read_csv(\"http://www.football-data.co.uk/mmz4281/1718/E0.csv\", sep=',', header = 0)\n",
    "df1617 = pd.read_csv(\"http://www.football-data.co.uk/mmz4281/1617/E0.csv\", sep=',', header = 0)\n",
    "df1516 = pd.read_csv(\"http://www.football-data.co.uk/mmz4281/1516/E0.csv\", sep=',', header = 0)\n",
    "df = pd.concat([df1718,df1617,df1516], ignore_index = True)\n"
   ]
  },
  {
   "cell_type": "markdown",
   "metadata": {},
   "source": [
    "다음과 같이 B365, BW 두 업체의 배당률을 통해 비교해보자."
   ]
  },
  {
   "cell_type": "code",
   "execution_count": 2,
   "metadata": {},
   "outputs": [
    {
     "data": {
      "text/html": [
       "<div>\n",
       "<style scoped>\n",
       "    .dataframe tbody tr th:only-of-type {\n",
       "        vertical-align: middle;\n",
       "    }\n",
       "\n",
       "    .dataframe tbody tr th {\n",
       "        vertical-align: top;\n",
       "    }\n",
       "\n",
       "    .dataframe thead th {\n",
       "        text-align: right;\n",
       "    }\n",
       "</style>\n",
       "<table border=\"1\" class=\"dataframe\">\n",
       "  <thead>\n",
       "    <tr style=\"text-align: right;\">\n",
       "      <th></th>\n",
       "      <th>FTR</th>\n",
       "      <th>B365H</th>\n",
       "      <th>B365D</th>\n",
       "      <th>B365A</th>\n",
       "      <th>BWH</th>\n",
       "      <th>BWD</th>\n",
       "      <th>BWA</th>\n",
       "    </tr>\n",
       "  </thead>\n",
       "  <tbody>\n",
       "    <tr>\n",
       "      <th>0</th>\n",
       "      <td>H</td>\n",
       "      <td>1.53</td>\n",
       "      <td>4.5</td>\n",
       "      <td>6.50</td>\n",
       "      <td>1.50</td>\n",
       "      <td>4.60</td>\n",
       "      <td>6.75</td>\n",
       "    </tr>\n",
       "    <tr>\n",
       "      <th>1</th>\n",
       "      <td>A</td>\n",
       "      <td>11.00</td>\n",
       "      <td>5.5</td>\n",
       "      <td>1.33</td>\n",
       "      <td>11.00</td>\n",
       "      <td>5.25</td>\n",
       "      <td>1.30</td>\n",
       "    </tr>\n",
       "    <tr>\n",
       "      <th>2</th>\n",
       "      <td>A</td>\n",
       "      <td>1.25</td>\n",
       "      <td>6.5</td>\n",
       "      <td>15.00</td>\n",
       "      <td>1.22</td>\n",
       "      <td>6.50</td>\n",
       "      <td>12.50</td>\n",
       "    </tr>\n",
       "    <tr>\n",
       "      <th>3</th>\n",
       "      <td>A</td>\n",
       "      <td>1.83</td>\n",
       "      <td>3.6</td>\n",
       "      <td>5.00</td>\n",
       "      <td>1.80</td>\n",
       "      <td>3.50</td>\n",
       "      <td>4.75</td>\n",
       "    </tr>\n",
       "    <tr>\n",
       "      <th>4</th>\n",
       "      <td>H</td>\n",
       "      <td>1.70</td>\n",
       "      <td>3.8</td>\n",
       "      <td>5.75</td>\n",
       "      <td>1.70</td>\n",
       "      <td>3.60</td>\n",
       "      <td>5.50</td>\n",
       "    </tr>\n",
       "  </tbody>\n",
       "</table>\n",
       "</div>"
      ],
      "text/plain": [
       "  FTR  B365H  B365D  B365A    BWH   BWD    BWA\n",
       "0   H   1.53    4.5   6.50   1.50  4.60   6.75\n",
       "1   A  11.00    5.5   1.33  11.00  5.25   1.30\n",
       "2   A   1.25    6.5  15.00   1.22  6.50  12.50\n",
       "3   A   1.83    3.6   5.00   1.80  3.50   4.75\n",
       "4   H   1.70    3.8   5.75   1.70  3.60   5.50"
      ]
     },
     "execution_count": 2,
     "metadata": {},
     "output_type": "execute_result"
    }
   ],
   "source": [
    "B365_odds = ['B365H', 'B365D', 'B365A']\n",
    "BW_odds = ['BWH', 'BWD', 'BWA']\n",
    "df[['FTR']+B365_odds + BW_odds].head()"
   ]
  },
  {
   "cell_type": "markdown",
   "metadata": {},
   "source": [
    "예상대로, 5경기뿐이지만 두 업체모두 배당률은 비슷한 패턴을 보인다.\n",
    "또한 실제로 배당(수치)이 제일 작은 결과가 실제 결과와 일치하는 것을 볼 수 있다.  \n",
    "그렇다면 먼저 간단하게 다음을 살펴보자.\n",
    "> 업체 예측 결과가 실제 결과가 같을 확률  \n",
    "; 업체 예측 결과 = 배당률이 가장 낮은 결과\n"
   ]
  },
  {
   "cell_type": "code",
   "execution_count": 3,
   "metadata": {},
   "outputs": [
    {
     "data": {
      "text/html": [
       "<div>\n",
       "<style scoped>\n",
       "    .dataframe tbody tr th:only-of-type {\n",
       "        vertical-align: middle;\n",
       "    }\n",
       "\n",
       "    .dataframe tbody tr th {\n",
       "        vertical-align: top;\n",
       "    }\n",
       "\n",
       "    .dataframe thead th {\n",
       "        text-align: right;\n",
       "    }\n",
       "</style>\n",
       "<table border=\"1\" class=\"dataframe\">\n",
       "  <thead>\n",
       "    <tr style=\"text-align: right;\">\n",
       "      <th></th>\n",
       "      <th>B365</th>\n",
       "      <th>IW</th>\n",
       "      <th>LB</th>\n",
       "      <th>PS</th>\n",
       "      <th>WH</th>\n",
       "      <th>VC</th>\n",
       "    </tr>\n",
       "  </thead>\n",
       "  <tbody>\n",
       "    <tr>\n",
       "      <th>True</th>\n",
       "      <td>622.000000</td>\n",
       "      <td>624.000000</td>\n",
       "      <td>623.000000</td>\n",
       "      <td>621.000000</td>\n",
       "      <td>619.000000</td>\n",
       "      <td>621.000000</td>\n",
       "    </tr>\n",
       "    <tr>\n",
       "      <th>False</th>\n",
       "      <td>518.000000</td>\n",
       "      <td>516.000000</td>\n",
       "      <td>517.000000</td>\n",
       "      <td>519.000000</td>\n",
       "      <td>521.000000</td>\n",
       "      <td>519.000000</td>\n",
       "    </tr>\n",
       "    <tr>\n",
       "      <th>Hit rate</th>\n",
       "      <td>0.545614</td>\n",
       "      <td>0.547368</td>\n",
       "      <td>0.546491</td>\n",
       "      <td>0.544737</td>\n",
       "      <td>0.542982</td>\n",
       "      <td>0.544737</td>\n",
       "    </tr>\n",
       "  </tbody>\n",
       "</table>\n",
       "</div>"
      ],
      "text/plain": [
       "                B365          IW          LB          PS          WH  \\\n",
       "True      622.000000  624.000000  623.000000  621.000000  619.000000   \n",
       "False     518.000000  516.000000  517.000000  519.000000  521.000000   \n",
       "Hit rate    0.545614    0.547368    0.546491    0.544737    0.542982   \n",
       "\n",
       "                  VC  \n",
       "True      621.000000  \n",
       "False     519.000000  \n",
       "Hit rate    0.544737  "
      ]
     },
     "execution_count": 3,
     "metadata": {},
     "output_type": "execute_result"
    }
   ],
   "source": [
    "# 값이 최소인 라벨을 구해서 그 라벨의 맨 끝자리[-1]를 보면 H/D/A로 예측 값을 알수있고, 그걸 실제 결과인 FTR 과 비교하자!!!\n",
    "\n",
    "bets = ['B365', 'IW', 'LB', 'PS', 'WH', 'VC']    # BW 는 918 행에 NaN이 들어가서 뺐다.\n",
    "results = ['H', 'D', 'A']\n",
    "\n",
    "for bet in bets:\n",
    "    odds = [bet+result for result in results]\n",
    "    guess = df[odds].idxmin(axis=1).map(lambda x: x[-1])\n",
    "    df[bet] = (df['FTR']==guess)\n",
    "    \n",
    "bets_rate = df[bets].apply(pd.value_counts)\n",
    "bets_rate.loc['Hit rate'] = bets_rate.loc[True] / bets_rate.sum()\n",
    "bets_rate"
   ]
  },
  {
   "cell_type": "markdown",
   "metadata": {},
   "source": [
    "미미한 차이가 있기는 하지만\n",
    "> 전체적으로 배당률을 보고 단순히 승/무/패 결과를 예측하는 것은...\n",
    " *배당업체에 따른 차이가 없어보인다.*\n",
    " \n",
    "평균적으로 54.5% 정도의 예측 성공률을 나타내고 있는데, 이 정도면 실제 결과 예측과 충분한 관계성이 보인다.\n",
    "자칫 경기 결과를 승/패 2가지 경우로 오해할 수 있는데, 어디까지나 이 베팅은 승/무/패 3가지 경우를 예측한 것이다.\n",
    "따라서 아무 기반도 없다면 33%에 그쳐버리는 예측 성공률을 54.5%까지는 올릴 수 있었다.  \n",
    "\n",
    "하지만 아직 이 정도 수치로는 부족하다. 의미있는 예측을 하기 위해 다른 관점에서 분석해보도록 하자.\n",
    "\n",
    "단순히 승/무/패 예측이 성공했냐로 끝나지 않고,\n",
    "> 승/무/패 배당률에 비례해서 배당업체가 얼마나 강하게 예측했고, 그 성공률을 분석해보자.\n",
    "\n"
   ]
  },
  {
   "cell_type": "code",
   "execution_count": null,
   "metadata": {},
   "outputs": [],
   "source": []
  }
 ],
 "metadata": {
  "kernelspec": {
   "display_name": "Python 3",
   "language": "python",
   "name": "python3"
  },
  "language_info": {
   "codemirror_mode": {
    "name": "ipython",
    "version": 3
   },
   "file_extension": ".py",
   "mimetype": "text/x-python",
   "name": "python",
   "nbconvert_exporter": "python",
   "pygments_lexer": "ipython3",
   "version": "3.6.5"
  }
 },
 "nbformat": 4,
 "nbformat_minor": 2
}
