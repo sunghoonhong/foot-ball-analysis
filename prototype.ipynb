{
 "cells": [
  {
   "cell_type": "markdown",
   "metadata": {},
   "source": [
    "# 개요\n",
    "\n",
    "## 서론\n",
    "재원이는 축구를 좋아한다. 평소에도 FIFA 게임을 즐기고 있으며, 최근 개최된 2018 러시아 월드컵에도 큰 관심을 가지고 관람했다.  \n",
    "뿐만 아니라 해외축구까지도 섭렵하며 유러피안 리그도 그의 큰 관심사 중 하나이다.  \n",
    "평소 축구는 좋아하지만 베팅에는 큰 관심이 없던 재원이도 이번 월드컵에서 배당률이 5000 이상 뛰는 걸 보고 호기심이 생겼다.  \n",
    "베팅 사이트를 들어가보니 각 경기마다 배당률이 매겨지는데, 많은 축구 팬들이 베팅을 했기 때문인지 배당률만 봐도 어느정도 판세가 보임을 알 수 있었다.  \n",
    "그래서 굳이 베팅을 하지는 않더라도, 미리 경기의 결과를 예측함에 있어서 의미있는 요인이라는 생각이 들었다.\n",
    "하지만 단순히 배당률만 보고 그대로 따라간다면 예측의 의미가 있을까?  \n",
    "그래서 문득 데이터 분석을 배운 김에 승부 예측을 향상시킬 방법을 찾아보기로 결심했다!  \n",
    "\n",
    "## 분석 대상\n",
    "1. 업체신뢰도: 베팅업체 배당률과 실제 예측성공률을 비교\n",
    "2. 배당률 패턴(승:무:패 / 비슷함, 승쏠림, 패쏠림, 무쏠림)에 따라서 실제 결과가 어떻게 나오는지 분석해보기\n",
    "3. 팀별 상성\n",
    "4. 매치데이터를 통한 팀 성향 분류 및 상성 분석\n",
    "\n",
    "## 결론\n",
    "기본적으로 베팅업체의 배당률만 봐도 대략적으로 경기 결과(승/무/패)를 예측할 수 있다.\n",
    "따라서 (홈팀을 기준으로) 승(W), 무(D), 패(L)의 확률을 계산해볼 수 있다.\n",
    "\n",
    ">P(W) = a\n",
    "P(D) = b\n",
    "P(L) = c\n",
    "; a+b+c = 1\n",
    "\n",
    "다만 배당률만 보고 가기엔 너무나 도박적이기 때문에 *배당률 패턴, 팀별 상성, 팀 성향 상성* 등의 요인을 추가하여 확률을 보정하고싶다.\n",
    "식을 보정하는 방법은 나중에 생각해보자."
   ]
  },
  {
   "cell_type": "markdown",
   "metadata": {},
   "source": [
    "# 업체신뢰도\n",
    "일단 1x2 betting odds를 기준으로 분석을 해보자.  \n",
    "그리고 업체 신뢰도를 판단하기에 앞서 업체의 수가 너무 많은 관계로 필터링을 거쳐보자.\n"
   ]
  },
  {
   "cell_type": "code",
   "execution_count": 1,
   "metadata": {},
   "outputs": [],
   "source": [
    "import numpy as np\n",
    "import pandas as pd\n",
    "import matplotlib.pyplot as plt\n",
    "import seaborn as sns\n",
    "\n",
    "df1718 = pd.read_csv(\"http://www.football-data.co.uk/mmz4281/1718/E0.csv\", sep=',', header = 0)\n",
    "df1617 = pd.read_csv(\"http://www.football-data.co.uk/mmz4281/1617/E0.csv\", sep=',', header = 0)\n",
    "df1516 = pd.read_csv(\"http://www.football-data.co.uk/mmz4281/1516/E0.csv\", sep=',', header = 0)\n",
    "df = pd.concat([df1718,df1617,df1516], ignore_index = True)\n"
   ]
  },
  {
   "cell_type": "markdown",
   "metadata": {},
   "source": [
    "다음과 같이 B365, BW 두 업체의 배당률을 통해 비교해보자."
   ]
  },
  {
   "cell_type": "code",
   "execution_count": 2,
   "metadata": {},
   "outputs": [
    {
     "data": {
      "text/html": [
       "<div>\n",
       "<style scoped>\n",
       "    .dataframe tbody tr th:only-of-type {\n",
       "        vertical-align: middle;\n",
       "    }\n",
       "\n",
       "    .dataframe tbody tr th {\n",
       "        vertical-align: top;\n",
       "    }\n",
       "\n",
       "    .dataframe thead th {\n",
       "        text-align: right;\n",
       "    }\n",
       "</style>\n",
       "<table border=\"1\" class=\"dataframe\">\n",
       "  <thead>\n",
       "    <tr style=\"text-align: right;\">\n",
       "      <th></th>\n",
       "      <th>FTR</th>\n",
       "      <th>B365H</th>\n",
       "      <th>B365D</th>\n",
       "      <th>B365A</th>\n",
       "      <th>BWH</th>\n",
       "      <th>BWD</th>\n",
       "      <th>BWA</th>\n",
       "    </tr>\n",
       "  </thead>\n",
       "  <tbody>\n",
       "    <tr>\n",
       "      <th>0</th>\n",
       "      <td>H</td>\n",
       "      <td>1.53</td>\n",
       "      <td>4.5</td>\n",
       "      <td>6.50</td>\n",
       "      <td>1.50</td>\n",
       "      <td>4.60</td>\n",
       "      <td>6.75</td>\n",
       "    </tr>\n",
       "    <tr>\n",
       "      <th>1</th>\n",
       "      <td>A</td>\n",
       "      <td>11.00</td>\n",
       "      <td>5.5</td>\n",
       "      <td>1.33</td>\n",
       "      <td>11.00</td>\n",
       "      <td>5.25</td>\n",
       "      <td>1.30</td>\n",
       "    </tr>\n",
       "    <tr>\n",
       "      <th>2</th>\n",
       "      <td>A</td>\n",
       "      <td>1.25</td>\n",
       "      <td>6.5</td>\n",
       "      <td>15.00</td>\n",
       "      <td>1.22</td>\n",
       "      <td>6.50</td>\n",
       "      <td>12.50</td>\n",
       "    </tr>\n",
       "    <tr>\n",
       "      <th>3</th>\n",
       "      <td>A</td>\n",
       "      <td>1.83</td>\n",
       "      <td>3.6</td>\n",
       "      <td>5.00</td>\n",
       "      <td>1.80</td>\n",
       "      <td>3.50</td>\n",
       "      <td>4.75</td>\n",
       "    </tr>\n",
       "    <tr>\n",
       "      <th>4</th>\n",
       "      <td>H</td>\n",
       "      <td>1.70</td>\n",
       "      <td>3.8</td>\n",
       "      <td>5.75</td>\n",
       "      <td>1.70</td>\n",
       "      <td>3.60</td>\n",
       "      <td>5.50</td>\n",
       "    </tr>\n",
       "  </tbody>\n",
       "</table>\n",
       "</div>"
      ],
      "text/plain": [
       "  FTR  B365H  B365D  B365A    BWH   BWD    BWA\n",
       "0   H   1.53    4.5   6.50   1.50  4.60   6.75\n",
       "1   A  11.00    5.5   1.33  11.00  5.25   1.30\n",
       "2   A   1.25    6.5  15.00   1.22  6.50  12.50\n",
       "3   A   1.83    3.6   5.00   1.80  3.50   4.75\n",
       "4   H   1.70    3.8   5.75   1.70  3.60   5.50"
      ]
     },
     "execution_count": 2,
     "metadata": {},
     "output_type": "execute_result"
    }
   ],
   "source": [
    "B365_odds = ['B365H', 'B365D', 'B365A']\n",
    "BW_odds = ['BWH', 'BWD', 'BWA']\n",
    "df[['FTR']+B365_odds + BW_odds].head()"
   ]
  },
  {
   "cell_type": "markdown",
   "metadata": {},
   "source": [
    "예상대로, 5경기뿐이지만 두 업체모두 배당률은 비슷한 패턴을 보인다.\n",
    "또한 실제로 배당(수치)이 제일 작은 결과가 실제 결과와 일치하는 것을 볼 수 있다.  \n",
    "그렇다면 먼저 간단하게 다음을 살펴보자.\n",
    "> 업체 예측 결과가 실제 결과가 같을 확률  \n",
    "; 업체 예측 결과 = 배당률이 가장 낮은 결과\n"
   ]
  },
  {
   "cell_type": "code",
   "execution_count": 3,
   "metadata": {},
   "outputs": [
    {
     "data": {
      "text/html": [
       "<div>\n",
       "<style scoped>\n",
       "    .dataframe tbody tr th:only-of-type {\n",
       "        vertical-align: middle;\n",
       "    }\n",
       "\n",
       "    .dataframe tbody tr th {\n",
       "        vertical-align: top;\n",
       "    }\n",
       "\n",
       "    .dataframe thead th {\n",
       "        text-align: right;\n",
       "    }\n",
       "</style>\n",
       "<table border=\"1\" class=\"dataframe\">\n",
       "  <thead>\n",
       "    <tr style=\"text-align: right;\">\n",
       "      <th></th>\n",
       "      <th>B365</th>\n",
       "      <th>IW</th>\n",
       "      <th>LB</th>\n",
       "      <th>PS</th>\n",
       "      <th>WH</th>\n",
       "      <th>VC</th>\n",
       "    </tr>\n",
       "  </thead>\n",
       "  <tbody>\n",
       "    <tr>\n",
       "      <th>True</th>\n",
       "      <td>622.000000</td>\n",
       "      <td>624.000000</td>\n",
       "      <td>623.000000</td>\n",
       "      <td>621.000000</td>\n",
       "      <td>619.000000</td>\n",
       "      <td>621.000000</td>\n",
       "    </tr>\n",
       "    <tr>\n",
       "      <th>False</th>\n",
       "      <td>518.000000</td>\n",
       "      <td>516.000000</td>\n",
       "      <td>517.000000</td>\n",
       "      <td>519.000000</td>\n",
       "      <td>521.000000</td>\n",
       "      <td>519.000000</td>\n",
       "    </tr>\n",
       "    <tr>\n",
       "      <th>Hit rate</th>\n",
       "      <td>0.545614</td>\n",
       "      <td>0.547368</td>\n",
       "      <td>0.546491</td>\n",
       "      <td>0.544737</td>\n",
       "      <td>0.542982</td>\n",
       "      <td>0.544737</td>\n",
       "    </tr>\n",
       "  </tbody>\n",
       "</table>\n",
       "</div>"
      ],
      "text/plain": [
       "                B365          IW          LB          PS          WH  \\\n",
       "True      622.000000  624.000000  623.000000  621.000000  619.000000   \n",
       "False     518.000000  516.000000  517.000000  519.000000  521.000000   \n",
       "Hit rate    0.545614    0.547368    0.546491    0.544737    0.542982   \n",
       "\n",
       "                  VC  \n",
       "True      621.000000  \n",
       "False     519.000000  \n",
       "Hit rate    0.544737  "
      ]
     },
     "execution_count": 3,
     "metadata": {},
     "output_type": "execute_result"
    }
   ],
   "source": [
    "# 값이 최소인 라벨을 구해서 그 라벨의 맨 끝자리[-1]를 보면 H/D/A로 예측 값을 알수있고, 그걸 실제 결과인 FTR 과 비교하자!!!\n",
    "\n",
    "bookmakers = ['B365', 'IW', 'LB', 'PS', 'WH', 'VC']    # BW 는 918 행에 NaN이 들어가서 뺐다.\n",
    "results = ['H', 'D', 'A']\n",
    "\n",
    "for bookmaker in bookmakers:\n",
    "    cases = [bookmaker+result for result in results]\n",
    "    guess = df[cases].idxmin(axis=1).map(lambda x: x[-1])\n",
    "    df[bookmaker] = (df['FTR']==guess)\n",
    "    \n",
    "hit_rate = df[bookmakers].apply(pd.value_counts)\n",
    "hit_rate.loc['Hit rate'] = hit_rate.loc[True] / hit_rate.sum()\n",
    "hit_rate"
   ]
  },
  {
   "cell_type": "markdown",
   "metadata": {},
   "source": [
    "미미한 차이가 있기는 하지만\n",
    "> 전체적으로 최소 배당을 통한 승/무/패 결과 예측은...  \n",
    " *\"배당업체에 따른 차이가 없어보인다.\"*\n",
    " \n",
    "평균적으로 54.5% 정도의 예측 성공률을 나타내고 있는데, 이 정도면 실제 결과 예측과 충분한 관계성이 보인다.\n",
    "자칫 경기 결과를 승/패 2가지 경우로 오해할 수 있는데, 어디까지나 이 베팅은 승/무/패 3가지 경우를 예측한 것이다.\n",
    "따라서 아무 기반도 없다면 33%에 그쳐버리는 예측 성공률을 54.5%까지는 올릴 수 있었다.  \n",
    "\n",
    "하지만 아직 이 정도 수치로는 부족하다. 의미있는 예측을 하기 위해 다른 관점에서 분석해보도록 하자.\n",
    "\n",
    "단순히 승/무/패 예측이 성공했냐로 끝나지 않고,\n",
    "> 승/무/패 배당률에 비례해서 배당업체가 얼마나 강하게 예측했고 성공률이 어떤지를 나타내는 지표를 분석해보자.\n",
    "\n"
   ]
  },
  {
   "cell_type": "markdown",
   "metadata": {},
   "source": [
    "odd = certainty(1.0) / probability = 1/선택한 결과가 나올 확률\n",
    "<=> 선택한 결과가 나올 확률 = 1 / 소수점 배당률(odd)\n",
    "\n",
    ">홈이 이길 확률     = P(H) = 1 / odd['H']  \n",
    "비길 확률          = P(D) = 1 / odd['D']  \n",
    "어웨이가 이길 확률 = P(A) = 1 / odd['A']\n",
    "\n",
    "그런데 베팅업체는 수익을 위해 마진을 설정하기 때문에 위의 식을 그대로 적용하면 확률의 총합이 1보다 커진다.\n",
    "즉 1보다 큰 부분은 마진에 의해 발생한 오차이므로, 확률의 총합이 1이 되도록 처리한다.\n",
    "\n",
    ">sum = P(H) + P(D) + P(A)  (margin = sum - 1)  \n",
    "1 = (P(H) + P(D) + P(A)) / sum = P(H)/sum + P(D)/sum + P(A)/sum\n"
   ]
  },
  {
   "cell_type": "code",
   "execution_count": 4,
   "metadata": {},
   "outputs": [
    {
     "name": "stdout",
     "output_type": "stream",
     "text": [
      "     B365HP    B365DP    B365AP\n",
      "0  0.634766  0.215820  0.149414\n",
      "1  0.088726  0.177452  0.733823\n",
      "2  0.783920  0.150754  0.065327\n",
      "3  0.533523  0.271208  0.195269\n",
      "4  0.573717  0.256663  0.169621\n",
      "       IWHP      IWDP      IWAP\n",
      "0  0.643989  0.210370  0.145641\n",
      "1  0.118549  0.178941  0.702510\n",
      "2  0.776914  0.152877  0.070210\n",
      "3  0.510516  0.269844  0.219640\n",
      "4  0.555722  0.255332  0.188946\n",
      "       LBHP      LBDP      LBAP\n",
      "0  0.645656  0.211306  0.143038\n",
      "1  0.093525  0.187050  0.719424\n",
      "2  0.768802  0.167131  0.064067\n",
      "3  0.520639  0.275632  0.203728\n",
      "4  0.561172  0.260322  0.178506\n",
      "       PSHP      PSDP      PSAP\n",
      "0  0.641181  0.215606  0.143213\n",
      "1  0.089729  0.177034  0.733237\n",
      "2  0.779652  0.155930  0.064417\n",
      "3  0.534961  0.273458  0.191581\n",
      "4  0.575883  0.255614  0.168503\n",
      "       WHHP      WHDP      WHAP\n",
      "0  0.617556  0.224967  0.157477\n",
      "1  0.094321  0.196501  0.709178\n",
      "2  0.755614  0.171731  0.072655\n",
      "3  0.524809  0.286260  0.188931\n",
      "4  0.557164  0.270622  0.172214\n",
      "       VCHP      VCDP      VCAP\n",
      "0  0.634766  0.215820  0.149414\n",
      "1  0.096740  0.175891  0.727369\n",
      "2  0.779221  0.155844  0.064935\n",
      "3  0.533523  0.271208  0.195269\n",
      "4  0.573717  0.256663  0.169621\n"
     ]
    }
   ],
   "source": [
    "for bookmaker in bookmakers:\n",
    "    cases = [bookmaker+result for result in results]\n",
    "    probs = df[cases].apply(lambda x: 1/x)\n",
    "    with_margin = probs.sum(axis=1)\n",
    "    df[[case+'P' for case in cases]] = probs.apply(lambda x: x/with_margin)\n",
    "    print(df[[case+'P' for case in cases]].head())\n",
    "    "
   ]
  },
  {
   "cell_type": "markdown",
   "metadata": {},
   "source": [
    "위와 같이 각 업체별로 총합이 1이 되는 확률을 계산했다.  \n",
    "위의 확률만 보고 결과를 예측하는 것은 이미 위에서 했던대로 배당률만 보고 판단하는 것과 같다.  \n",
    "이미 이것만으로도 약 21.5%라는 확률의 비약적인 상승을 얻었다.  \n",
    "하지만 배당률도 결국 인간인 베팅 이용자에 의해 결정되는 것이므로 완벽하지 않다.  \n",
    "이제는 배당률 이외의 데이터를 분석해서 확률을 조정하고, 더 좋은 예측 성공률을 얻어보자.  \n",
    "\n",
    "이전의 분석에 의하면 경기 결과와 상관도(correlation)이 높은 요인은 다음과 같다.  \n",
    "홈일 경우, 배당률을 제외하면 다음의 요인들이 있다.\n",
    "- 양의 관계 : FTHG, HTHG, HS, HST\n",
    "- 음의 관계 : FTAG, HTAG, AS, AST  \n",
    "\n",
    "안타깝게도 다른 변수들은 큰 상관성을 보여주지 않았다.  \n",
    "그래도 다음과 같이 여러 관점에서 시도해볼 수 있다.\n",
    "- 상대 팀과의 관계 고려(아예 한 팀만의 데이터를 볼지, 다른 팀과의 경기라는 조건 하에서 볼지)\n",
    "- 지난 경기 중 일부만 고려(옛날 데이터를 제외하거나 x 0.01(forget) 등을 해서 영향력을 줄이더라도 포함시킬지)\n",
    "\n",
    "    \n",
    "현재로서는 다음과 같이 고려해볼만한 요인을 정해보았다.\n",
    "\n",
    "- 경기 결과에 의한 승률  \n",
    "\n",
    "    1. 최근 N경기 내의 전적에 의한 승률 (팀 고려x)\n",
    "    2. 최근 N경기 내의 상대전적에 의한 승률 (해당 팀간의 전적)  \n",
    "    3. 홈에 강한 팀과 어웨이에 강한 팀\n",
    "      \n",
    "- 매치 데이터에 의한 승률\n",
    "\n",
    "    4. (최근 N경기 내의) 평균(또는 다른 형태로) 유효슈팅 수에 의한 승률  \n",
    "    5. (최근 N경기 내의) (유효)슈팅을 기준으로 상대적인 공격/수비성을 비교하고 그에 따른 우위 분석 후 반영\n",
    "      ex) 양 팀의 최근 (유효)슈팅 횟수 동향이 많이 유사하다면 승/패가 아닌 무의 결과가 나올 확률 상승\n",
    "      \n",
    "- 배당률 패턴에 의한 확률\n",
    "\n",
    "    6. 배당률이 (H, D, A) 중 한쪽에 쏠린 경우 또는 배당률 간의 차이가 작을 경우 등의 패턴별로 결과를 분석"
   ]
  },
  {
   "cell_type": "markdown",
   "metadata": {},
   "source": [
    "## 전적에 의한 승률\n",
    "\n",
    "일단 상대 팀, 홈/어웨이 등은 고려하지 않고 단순 승률을 구해보자.\n"
   ]
  },
  {
   "cell_type": "code",
   "execution_count": 5,
   "metadata": {
    "scrolled": false
   },
   "outputs": [
    {
     "data": {
      "image/png": "[encoded data removed]",
      "text/plain": [
       "<Figure size 1440x720 with 1 Axes>"
      ]
     },
     "metadata": {},
     "output_type": "display_data"
    },
    {
     "data": {
      "image/png": "[encoded data removed]",
      "text/plain": [
       "<Figure size 1440x720 with 1 Axes>"
      ]
     },
     "metadata": {},
     "output_type": "display_data"
    },
    {
     "data": {
      "image/png": "[encoded data removed]",
      "text/plain": [
       "<Figure size 1440x720 with 1 Axes>"
      ]
     },
     "metadata": {},
     "output_type": "display_data"
    }
   ],
   "source": [
    "match_data = ['HomeTeam', 'AwayTeam', 'FTR', 'FTHG', 'FTAG', 'HTHG', 'HTAG', 'HS', 'AS', 'HST', 'AST', 'HTW', 'HTD', 'HTL']\n",
    "df[\"HTW\"] = (df[\"FTHG\"] > df[\"FTAG\"]).astype(int)\n",
    "df[\"HTD\"] = (df[\"FTHG\"] == df[\"FTAG\"]).astype(int)\n",
    "df[\"HTL\"] = (df[\"FTHG\"] < df[\"FTAG\"]).astype(int)\n",
    "df_match = df[match_data]\n",
    "ht_prob = df_match.groupby('HomeTeam')\n",
    "\n",
    "ht_prob = ht_prob['HTW', 'HTD', 'HTL'].count() * ht_prob['HTW', 'HTD', 'HTL'].mean()\n",
    "ht_prob.columns = ['W', 'D', 'L']\n",
    "ht_prob.index.name = 'Team'\n",
    "at_prob = df_match.groupby('AwayTeam')\n",
    "at_prob = at_prob['HTW', 'HTD', 'HTL'].count() * at_prob['HTW', 'HTD', 'HTL'].mean()\n",
    "at_prob.columns = ['L', 'D', 'W']\n",
    "at_prob.index.name = 'Team'\n",
    "\n",
    "history_prob = pd.DataFrame(data=(ht_prob + at_prob), columns=['W', 'D', 'L'])\n",
    "history_prob['sum'] = history_prob.sum(axis=1)\n",
    "history_prob['W']/=history_prob['sum']\n",
    "history_prob['D']/=history_prob['sum']\n",
    "history_prob['L']/=history_prob['sum']\n",
    "\n",
    "plt.figure(figsize=(20,10))\n",
    "sns.barplot(y='Team', x='W', data=history_prob.reset_index().sort_values(by='W', ascending=False)).set_title('Each Team\\'s Win prob.')\n",
    "plt.show()\n",
    "\n",
    "plt.figure(figsize=(20,10))\n",
    "sns.barplot(y='Team', x='D', data=history_prob.reset_index().sort_values(by='D', ascending=False)).set_title('Each Team\\'s Draw prob.')\n",
    "plt.show()\n",
    "\n",
    "plt.figure(figsize=(20,10))\n",
    "sns.barplot(y='Team', x='L', data=history_prob.reset_index().sort_values(by='L', ascending=False)).set_title('Each Team\\'s Lose prob.')\n",
    "plt.show()"
   ]
  },
  {
   "cell_type": "markdown",
   "metadata": {},
   "source": [
    "간략하게 봤을때, 맨시티가 눈에 띄게 선두를 달리고 있고, 그와 대조되는 Aston Villa는 승률과 패율 모두 압도적인 모습을 보인다.  \n",
    "하지만 단순히 순위를 나열하는 행위에서는 특별한 의미를 찾지 못했다.  \n",
    "이제는 계산한 각 결과의 확률을 처음에 구했던 배당에 의한 확률을 조정해보자.  \n",
    "가장 간단한 방법은 average(배당확률, 전적승률)으로 조정하는 것이다. 바로 해보자.  \n",
    "\n",
    "업체별로 큰차이는 없는 걸로 보이지만, 그 중에서 가장 예측 성공률이 높은 **IW**(약 54.7%)로 해보자.\n",
    "\n",
    "df에서 IWHP, IWDP, IWAP는 확률을 이미 구해놨다.  \n",
    "매 경기를 의미하는 각 행에는 홈팀과 어웨이팀의 이름이 있다.  \n",
    "그 이름에 맞는 history_prob.loc['name']을 조회하면 W, D, L로 승/무/패 확률을 조회할 수 있다.\n",
    ">df['HHP'] = mean(df['IWHP'], history_prob.loc['HomeTeam']['W'], history_prob.loc['AwayTeam']['L'])  \n",
    "df['HDP'] = mean(df['IWDP'], history_prob.loc['HomeTeam']['D'], history_prob.loc['AwayTeam']['D'])  \n",
    "df['HAP'] = mean(df['IWAP'], history_prob.loc['HomeTeam']['L'], history_prob.loc['AwayTeam']['W'])\n",
    "\n",
    "위와 같이 History based Probability를 구해보자."
   ]
  },
  {
   "cell_type": "code",
   "execution_count": 7,
   "metadata": {},
   "outputs": [
    {
     "data": {
      "text/html": [
       "<div>\n",
       "<style scoped>\n",
       "    .dataframe tbody tr th:only-of-type {\n",
       "        vertical-align: middle;\n",
       "    }\n",
       "\n",
       "    .dataframe tbody tr th {\n",
       "        vertical-align: top;\n",
       "    }\n",
       "\n",
       "    .dataframe thead th {\n",
       "        text-align: right;\n",
       "    }\n",
       "</style>\n",
       "<table border=\"1\" class=\"dataframe\">\n",
       "  <thead>\n",
       "    <tr style=\"text-align: right;\">\n",
       "      <th></th>\n",
       "      <th>HomeTeam</th>\n",
       "      <th>AwayTeam</th>\n",
       "      <th>HHP</th>\n",
       "      <th>HDP</th>\n",
       "      <th>HAP</th>\n",
       "    </tr>\n",
       "  </thead>\n",
       "  <tbody>\n",
       "    <tr>\n",
       "      <th>0</th>\n",
       "      <td>Arsenal</td>\n",
       "      <td>Leicester</td>\n",
       "      <td>0.501213</td>\n",
       "      <td>0.228018</td>\n",
       "      <td>0.270769</td>\n",
       "    </tr>\n",
       "    <tr>\n",
       "      <th>1</th>\n",
       "      <td>Brighton</td>\n",
       "      <td>Man City</td>\n",
       "      <td>0.171095</td>\n",
       "      <td>0.238010</td>\n",
       "      <td>0.590895</td>\n",
       "    </tr>\n",
       "    <tr>\n",
       "      <th>2</th>\n",
       "      <td>Chelsea</td>\n",
       "      <td>Burnley</td>\n",
       "      <td>0.583533</td>\n",
       "      <td>0.204468</td>\n",
       "      <td>0.212000</td>\n",
       "    </tr>\n",
       "    <tr>\n",
       "      <th>3</th>\n",
       "      <td>Crystal Palace</td>\n",
       "      <td>Huddersfield</td>\n",
       "      <td>0.436254</td>\n",
       "      <td>0.250767</td>\n",
       "      <td>0.312980</td>\n",
       "    </tr>\n",
       "    <tr>\n",
       "      <th>4</th>\n",
       "      <td>Everton</td>\n",
       "      <td>Stoke</td>\n",
       "      <td>0.451323</td>\n",
       "      <td>0.278093</td>\n",
       "      <td>0.270584</td>\n",
       "    </tr>\n",
       "  </tbody>\n",
       "</table>\n",
       "</div>"
      ],
      "text/plain": [
       "         HomeTeam      AwayTeam       HHP       HDP       HAP\n",
       "0         Arsenal     Leicester  0.501213  0.228018  0.270769\n",
       "1        Brighton      Man City  0.171095  0.238010  0.590895\n",
       "2         Chelsea       Burnley  0.583533  0.204468  0.212000\n",
       "3  Crystal Palace  Huddersfield  0.436254  0.250767  0.312980\n",
       "4         Everton         Stoke  0.451323  0.278093  0.270584"
      ]
     },
     "execution_count": 7,
     "metadata": {},
     "output_type": "execute_result"
    }
   ],
   "source": [
    "hp_dict_w = history_prob['W'].T.to_dict()\n",
    "hp_dict_d = history_prob['D'].T.to_dict()\n",
    "hp_dict_l = history_prob['L'].T.to_dict()\n",
    "\n",
    "df['HHP'] = (df['IWHP']+df['HomeTeam'].map(hp_dict_w)+df['AwayTeam'].map(hp_dict_l))/3\n",
    "df['HDP'] = (df['IWDP']+df['HomeTeam'].map(hp_dict_d)+df['AwayTeam'].map(hp_dict_d))/3\n",
    "df['HAP'] = (df['IWAP']+df['HomeTeam'].map(hp_dict_l)+df['AwayTeam'].map(hp_dict_w))/3\n",
    "\n",
    "df[['HomeTeam','AwayTeam','HHP','HDP','HAP']].head()"
   ]
  },
  {
   "cell_type": "markdown",
   "metadata": {},
   "source": [
    "history 확률이 적용된 H(H/D/A)P를 구했다면, In[3]과 같이 hit_rate를 구할 수 있다!  \n",
    "어서 구해보고 기존의 hit_rate에 비해 개선되는지 확인해보자."
   ]
  },
  {
   "cell_type": "code",
   "execution_count": 24,
   "metadata": {
    "scrolled": true
   },
   "outputs": [
    {
     "name": "stdout",
     "output_type": "stream",
     "text": [
      "hit_rate by odds:  0.5473684210526316\n",
      "Modified hit_rate using history:  0.5429824561403509\n"
     ]
    }
   ],
   "source": [
    "# 값이 최소인 라벨을 구해서 그 라벨의 맨 끝자리[-1]를 보면 H/D/A로 예측 값을 알수있고, 그걸 실제 결과인 FTR 과 비교하자!!!\n",
    "\n",
    "\n",
    "guess = df[['HHP','HDP','HAP']].idxmax(axis=1).map(lambda x: x[1])\n",
    "df['hit_history'] = (df['FTR'] == guess)\n",
    "hit_rate_history = df['hit_history'].value_counts()\n",
    "hit_rate_history['Hit rate'] = hit_rate_history.loc[True] / hit_rate_history.sum()\n",
    "print('hit_rate by odds: ', hit_rate['IW']['Hit rate'])\n",
    "print('Modified hit_rate using history: ', hit_rate_history['Hit rate'])\n"
   ]
  },
  {
   "cell_type": "markdown",
   "metadata": {},
   "source": [
    "이럴수가... 예측 성공률이 0.5% 가량 하락해버렸다.  \n",
    "가볍게 추론해보자면 단순히 3개의 확률을 평균으로 합친게 원인일 수도 있다.  \n",
    "또는 역대 전적에 의한 승률은 최근 팀의 분위기나 상대팀과의 상성, 홈 어드밴티지 등을 충분히 고려하지 못했기 때문일 수도 있다.  \n",
    "하지만 아직 실망하기는 이르다.  \n",
    "훨씬 예측하기에 유의미해보이는 지표들이 많이 남아있다.  \n",
    "다음으로는 *홈 어드밴티지* 만 기존 확률에 접목시켜보자.  "
   ]
  },
  {
   "cell_type": "code",
   "execution_count": 25,
   "metadata": {},
   "outputs": [],
   "source": [
    "# 홈 어웨이를 반영해서 똑같이 분석해보자!"
   ]
  },
  {
   "cell_type": "markdown",
   "metadata": {},
   "source": [
    "이제 다음과 같은 방법으로 여러 지표들을 실험해보며 분석해보자.  \n",
    "- 기존 지표에 새로운 한 지표만 적용\n",
    "- 기존 지표에 여러가지 지표를 한꺼번에 적용\n",
    "- 기존 지표에 새로운 지표를 적용할 때, 평균이 아닌 각 지표마다 계수를 다르게 주기\n",
    "\n",
    "최종적으로는 **예측 성공률을 최대**로 하는, **적절한 지표들**과, **적절한 계수**를 찾는 것이 우리의 결과가 될 것이다.  \n",
    "그를 위해 전문적인 분석 기법을 적용해볼 수도 있지만, 일단은 우리가 가진 것만으로 분석해보도록 하자.\n",
    "\n",
    ">HP(Home Prob) = (w1, w2, w3) (xH1, xH2, xH3) + IWHP = W XH + b1; xH1 = P(H|history), xH2 = P(H|Home adv.), xH3 = P(H|Shot acc.), ...  \n",
    ">DP(Draw Prob) = (w1, w2, w3) (xD1, xD2, xD3) + IWDP = W XD + b2; xD1 = P(D|history), xD2 = P(D|Home adv.), xD3 = P(D|Shot acc.), ...  \n",
    ">AP(Away Prob) = (w1, w2, w3) (xA1, xA2, xA3) + IWAP = W XA + b3; xA1 = P(A|history), xA2 = P(A|Home adv.), xA3 = P(A|Shot acc.), ...  \n",
    ">>y1 = W X1 + b1\n",
    ">>y2 = W X2 + b2\n",
    ">>y3 = W X3 + b3\n",
    ">>>Y = W X + B\n",
    "\n",
    ">count((HP, DP, AP)중 최대인 결과 == FTR)를 최대로\n",
    ">>z = count(idxmax(y1,y2,y3) == c)를 최대로\n",
    ">>>z = count(idxmax(Y) == c)를 최대로\n",
    "\n",
    "### 예측 성공률 = z / 전체 경기 수\n",
    "\n",
    "- **적절한 지표**는 X에 어떤 x를 포함시킬지의 문제\n",
    "- **적절한 계수**는 W에 어떤 값을 할당할지의 문제\n",
    "- **예측 성공률을 최대**로 하는 건 z가 최대가 되게 하는 문제\n",
    "\n",
    "위와 같이 모델의 정의해 보았다.  \n",
    "이 분석의 목표는 예측 성공률(z)을 최대로 높이는 것이다.  \n",
    "통계 분석 기법을 도입해보려고 했는데 쉽게 적합한 기법을 찾기에 문제가 있다.  \n",
    "일단 y = WX + b 와 같은 식은 선형 회귀분석으로 쉽게 W를 구할 수 있다.  \n",
    "문제점은 선형 회귀분석은 y, X, b가 상수라는 조건이 필요한데, 현재 모델은 y가 결정되지 않았다.  \n",
    "z와 Y 사이에 대수적 관계성이 보인다면 y의 방향성을 정할 수 있겠지만, 비례관계 등의 관계성은 찾기 힘들어 보인다.  \n",
    "꼭 선형 회귀분석을 사용할 필요는 없지만, 현재에는 다음과 같은 과제 때문에 다른 기법들도 적용하기에 어려움이 있다.\n",
    "\n",
    "- y = WX + b 모델에서 얻고 싶은 변수가 2개다.\n",
    "- z의 상승을 위한 Y의 변화를 유추하기가 힘들다. 즉 y는 최종 결과가 아니기 때문에 무작정 단방향성을 띨 수가 없다.\n",
    "- 두 개의 모델(z와 Y)을 연립시킨 형태이므로, 단순히 한가지 기법만으로 적용하긴 어려워보인다.\n",
    "\n",
    "따라서 현재로선 한계를 극복하기 위해서 택한 방법은 다음과 같다.  \n",
    "> Y를 임의로 정한 후, z에 직접 적용해보며 관계성을 지켜보자.  \n",
    "> 즉, X와 W를 임의로 정하자.\n",
    "\n",
    "X와 W를 임의로 정하는 것은 통계를 배제하고 단순한 추측에 불과하지만,  \n",
    "그를 통해 z의 변화를 관찰하며 역추론을 실시하는 것은 통계적으로도 의미가 있다고 판단했다.  \n"
   ]
  },
  {
   "cell_type": "markdown",
   "metadata": {},
   "source": []
  }
 ],
 "metadata": {
  "kernelspec": {
   "display_name": "Python 3",
   "language": "python",
   "name": "python3"
  },
  "language_info": {
   "codemirror_mode": {
    "name": "ipython",
    "version": 3
   },
   "file_extension": ".py",
   "mimetype": "text/x-python",
   "name": "python",
   "nbconvert_exporter": "python",
   "pygments_lexer": "ipython3",
   "version": "3.6.6"
  }
 },
 "nbformat": 4,
 "nbformat_minor": 2
}
